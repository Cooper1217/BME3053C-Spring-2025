{
  "cells": [
    {
      "cell_type": "markdown",
      "metadata": {
        "id": "view-in-github",
        "colab_type": "text"
      },
      "source": [
        "<a href=\"https://colab.research.google.com/github/Cooper1217/BME3053C-Spring-2025/blob/main/HW/All_HWs.ipynb\" target=\"_parent\"><img src=\"https://colab.research.google.com/assets/colab-badge.svg\" alt=\"Open In Colab\"/></a>"
      ]
    },
    {
      "cell_type": "markdown",
      "metadata": {
        "id": "zxMSBUaZoKCY"
      },
      "source": [
        "#BME3053C - Computer Applications for BME\n",
        "\n",
        "<br/>\n",
        "\n",
        "<h1 align=\"center\">Homework\n",
        "</h1>\n",
        "\n",
        "---\n",
        "\n",
        "<center><h2>In order most recent on top</h2></center>\n",
        "\n",
        "\n",
        "[![Open In Colab](https://colab.research.google.com/assets/colab-badge.svg)](https://colab.research.google.com/github/uf-bme/bme3053c/blob/main/lessons/01_welcome_bme3053c.ipynb)"
      ]
    },
    {
      "cell_type": "markdown",
      "source": [
        "HW3"
      ],
      "metadata": {
        "id": "xIu7Zn5ZE9E8"
      }
    },
    {
      "cell_type": "code",
      "source": [
        "import math\n",
        "import random\n",
        "\n",
        "ppg_signal = [1000 + 100 * math.sin(0.1 * x) + random.randint(-20, 20) for x in range(100)]\n",
        "#ppg_signal = [1, 2, 3, 2, 1]\n",
        "#len(ppg_signal)\n",
        "def hw_three_function(input):\n",
        "  list_length_minus_one = len(input)-1\n",
        "  num_peaks = 0\n",
        "  for spot in range(1, list_length_minus_one):\n",
        "      if (input[spot-1] <  input[spot]) & (input[spot+1] < input[spot]):\n",
        "        num_peaks += 1\n",
        "  return(num_peaks)\n",
        "\n",
        "print(hw_three_function(ppg_signal))"
      ],
      "metadata": {
        "id": "lRY8mPF_E-Yd",
        "outputId": "0bdff03a-20c8-47d4-8262-d82deee72e39",
        "colab": {
          "base_uri": "https://localhost:8080/"
        }
      },
      "execution_count": 24,
      "outputs": [
        {
          "output_type": "stream",
          "name": "stdout",
          "text": [
            "35\n"
          ]
        }
      ]
    },
    {
      "cell_type": "markdown",
      "source": [
        "HW2\n"
      ],
      "metadata": {
        "id": "DpKhLqFHE4xu"
      }
    },
    {
      "cell_type": "code",
      "source": [
        "bp_readings = [120, 137, 151, 123, 162, 173, 127, 154]\n",
        "\n",
        "def normalizer(input):\n",
        "  maximum = max(input)\n",
        "  minimum = min(input)\n",
        "  new_array = []\n",
        "  # print(maximum)\n",
        "  # print(minimum)\n",
        "  for current_value in input:\n",
        "    new_value = (current_value - minimum)/(maximum-minimum)\n",
        "    new_array.append(new_value)\n",
        "\n",
        "  return(new_array)\n",
        "\n",
        "\n",
        "\n",
        "print(normalizer(bp_readings))\n",
        "\n"
      ],
      "metadata": {
        "id": "ypHvxSuwEzNI",
        "outputId": "b616c72b-9a00-49ec-d908-e5a791010abd",
        "colab": {
          "base_uri": "https://localhost:8080/"
        }
      },
      "execution_count": 1,
      "outputs": [
        {
          "output_type": "stream",
          "name": "stdout",
          "text": [
            "[0.0, 0.32075471698113206, 0.5849056603773585, 0.05660377358490566, 0.7924528301886793, 1.0, 0.1320754716981132, 0.6415094339622641]\n"
          ]
        }
      ]
    }
  ],
  "metadata": {
    "colab": {
      "provenance": [],
      "include_colab_link": true
    },
    "kernelspec": {
      "display_name": "Python 3.9.7 64-bit",
      "language": "python",
      "name": "python3"
    },
    "language_info": {
      "name": "python",
      "version": "3.9.7"
    },
    "orig_nbformat": 4,
    "vscode": {
      "interpreter": {
        "hash": "5974ac25dc9be56ffc04c26f1dcea484687dd3721d1ee5a9c3f4a235d03fe9b9"
      }
    }
  },
  "nbformat": 4,
  "nbformat_minor": 0
}
{
  "cells": [
    {
      "cell_type": "markdown",
      "metadata": {
        "id": "view-in-github",
        "colab_type": "text"
      },
      "source": [
        "<a href=\"https://colab.research.google.com/github/Cooper1217/BME3053C-Spring-2025/blob/main/study-guides/review.ipynb\" target=\"_parent\"><img src=\"https://colab.research.google.com/assets/colab-badge.svg\" alt=\"Open In Colab\"/></a>"
      ]
    },
    {
      "cell_type": "markdown",
      "source": [
        "Review"
      ],
      "metadata": {
        "id": "IlLmyTBBG1Q0"
      },
      "id": "IlLmyTBBG1Q0"
    },
    {
      "cell_type": "code",
      "source": [
        "example_number = 5\n",
        "\n",
        "def add_two_numbers(x,y):\n",
        "      local_var = x + y #this is only a variable inside this function\n",
        "      return local_var\n",
        "\n",
        "print(add_two_numbers(3,4))\n",
        "print('Example number', example_number) #this already has a space after the num"
      ],
      "metadata": {
        "id": "2lxOu2wjG39o",
        "outputId": "d032bd5c-e3ef-4e13-f9d5-92465eeaba19",
        "colab": {
          "base_uri": "https://localhost:8080/"
        }
      },
      "id": "2lxOu2wjG39o",
      "execution_count": 3,
      "outputs": [
        {
          "output_type": "stream",
          "name": "stdout",
          "text": [
            "7\n",
            "Example number  5\n"
          ]
        }
      ]
    },
    {
      "cell_type": "code",
      "source": [
        "print('2.4 rounded =',round(2.4))\n",
        "print('2.5 rounded =',round(2.5))\n",
        "print('2.51 rounded =',round(2.51))\n",
        "print('3.6 rounded =',round(2.6))\n",
        "print('2.4 int =',int(2.4))\n",
        "print('2.5 int =',int(2.5))\n",
        "print('3.6 int =',int(2.6))"
      ],
      "metadata": {
        "id": "WlRiyx79mj4r",
        "outputId": "157d0cc4-92d3-4f8e-e3dd-1b90aad6ac0a",
        "colab": {
          "base_uri": "https://localhost:8080/"
        }
      },
      "id": "WlRiyx79mj4r",
      "execution_count": 6,
      "outputs": [
        {
          "output_type": "stream",
          "name": "stdout",
          "text": [
            "2.4 rounded = 2\n",
            "2.5 rounded = 2\n",
            "2.51 rounded = 3\n",
            "3.6 rounded = 3\n",
            "2.4 int = 2\n",
            "2.5 int = 2\n",
            "3.6 int = 2\n"
          ]
        }
      ]
    },
    {
      "cell_type": "code",
      "source": [
        "int_ = 2\n",
        "float_ = 2.0\n",
        "str__ = 'Hello' # can be '' or \"\" just be consitent\n",
        "print(bool(0))\n",
        "print(bool(1))\n",
        "print(bool(10002))"
      ],
      "metadata": {
        "id": "hGnN_I6wnQQl",
        "outputId": "a6f4b345-859f-42c0-f130-cb42ff5b4891",
        "colab": {
          "base_uri": "https://localhost:8080/"
        }
      },
      "id": "hGnN_I6wnQQl",
      "execution_count": 10,
      "outputs": [
        {
          "output_type": "stream",
          "name": "stdout",
          "text": [
            "False\n",
            "True\n",
            "True\n"
          ]
        }
      ]
    },
    {
      "cell_type": "code",
      "source": [
        "my_list = [1,2,3,4,5]\n",
        "print(my_list[0]) # my_list[0.0] is error\n",
        "print(my_list[-1])\n",
        "print(type(2.0))\n",
        "#using int on a bool will make it 1 or 0 even if it was bool(50) before"
      ],
      "metadata": {
        "id": "tuStk5N9nkW1",
        "outputId": "8b72545f-cba1-4b57-dc33-6993e99f0eb6",
        "colab": {
          "base_uri": "https://localhost:8080/"
        }
      },
      "id": "tuStk5N9nkW1",
      "execution_count": 13,
      "outputs": [
        {
          "output_type": "stream",
          "name": "stdout",
          "text": [
            "1\n",
            "5\n",
            "<class 'float'>\n"
          ]
        }
      ]
    },
    {
      "cell_type": "code",
      "source": [
        "4**3\n",
        "#4^3 is an error"
      ],
      "metadata": {
        "id": "pqZjUrc2ou1g",
        "outputId": "e54761ad-020a-4341-a77e-efd534c0071f",
        "colab": {
          "base_uri": "https://localhost:8080/"
        }
      },
      "id": "pqZjUrc2ou1g",
      "execution_count": 14,
      "outputs": [
        {
          "output_type": "execute_result",
          "data": {
            "text/plain": [
              "64"
            ]
          },
          "metadata": {},
          "execution_count": 14
        }
      ]
    },
    {
      "cell_type": "code",
      "source": [
        "my_name='00Scott00'\n",
        "my_name_stripped=my_name.strip('0').lower()\n",
        "print('my_name =',my_name)\n",
        "print('my_name_stripped =',my_name_stripped, '...this was also .lower()')\n",
        "\n",
        "fav_animal_str=\"I love Wasps!\"\n",
        "print('fav_animal_str =',fav_animal_str)\n",
        "my_fav_animal='parrots'\n",
        "my_fav_animal_str=fav_animal_str.replace('Wasps',my_fav_animal)\n",
        "print('fav_animal_str =',fav_animal_str)\n",
        "print('my_fav_animal_str =',my_fav_animal_str)"
      ],
      "metadata": {
        "id": "SXM_0Idho5el",
        "outputId": "189aaccc-ae93-4f11-945f-8a1439cda0e6",
        "colab": {
          "base_uri": "https://localhost:8080/"
        }
      },
      "id": "SXM_0Idho5el",
      "execution_count": 17,
      "outputs": [
        {
          "output_type": "stream",
          "name": "stdout",
          "text": [
            "my_name = 00Scott00\n",
            "my_name_stripped = scott ...this was also .lower()\n",
            "fav_animal_str = I love Wasps!\n",
            "fav_animal_str = I love Wasps!\n",
            "my_fav_animal_str = I love parrots!\n"
          ]
        }
      ]
    },
    {
      "cell_type": "code",
      "source": [
        "start at slice"
      ],
      "metadata": {
        "id": "ryqmsw2JpUtO"
      },
      "id": "ryqmsw2JpUtO",
      "execution_count": null,
      "outputs": []
    }
  ],
  "metadata": {
    "kernelspec": {
      "display_name": ".venv",
      "language": "python",
      "name": "python3"
    },
    "language_info": {
      "codemirror_mode": {
        "name": "ipython",
        "version": 3
      },
      "file_extension": ".py",
      "mimetype": "text/x-python",
      "name": "python",
      "nbconvert_exporter": "python",
      "pygments_lexer": "ipython3",
      "version": "3.12.7"
    },
    "name": "BME3053C-midterm-study-guide-alternate",
    "colab": {
      "provenance": [],
      "include_colab_link": true
    }
  },
  "nbformat": 4,
  "nbformat_minor": 5
}